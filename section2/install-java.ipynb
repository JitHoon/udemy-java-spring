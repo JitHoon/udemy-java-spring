{
 "cells": [
  {
   "cell_type": "markdown",
   "metadata": {},
   "source": [
    "- https://github.com/in28minutes/course-material/blob/main/11-java-programming-for-beginners/downloads.md\n",
    "### Install java in MacOS\n",
    "- https://www.oracle.com/java/technologies/downloads/#jdk17-mac\n",
    "- https://download.oracle.com/java/17/latest/jdk-17_macos-aarch64_bin.dmg"
   ]
  },
  {
   "cell_type": "markdown",
   "metadata": {},
   "source": [
    "### 여러 version의 java가 설치되었을 때\n",
    "\n",
    "#### -v 16 으로 사용\n",
    "%export JAVA_HOME=$(/usr/libexec/java_home -v 16)\n",
    "\n",
    "%java -version"
   ]
  }
 ],
 "metadata": {
  "language_info": {
   "name": "python"
  },
  "orig_nbformat": 4
 },
 "nbformat": 4,
 "nbformat_minor": 2
}
